{
 "cells": [
  {
   "cell_type": "markdown",
   "id": "563f8bdf",
   "metadata": {
    "toc": true
   },
   "source": [
    "<h1>Table of Contents<span class=\"tocSkip\"></span></h1>\n",
    "<div class=\"toc\"><ul class=\"toc-item\"></ul></div>"
   ]
  },
  {
   "cell_type": "code",
   "execution_count": 3,
   "id": "ea72962a",
   "metadata": {
    "ExecuteTime": {
     "end_time": "2021-06-16T15:28:19.589630Z",
     "start_time": "2021-06-16T15:28:01.237311Z"
    }
   },
   "outputs": [],
   "source": [
    "import cv2\n",
    "\n",
    "face_cascade = cv2.CascadeClassifier('haarcascade_frontalface_alt.xml')\n",
    "videoObjcap = cv2.VideoCapture(0)\n",
    "\n",
    "while(True):\n",
    "    cap , frame = videoObjcap.read()\n",
    "    scale = 10\n",
    "    width = int(frame.shape[1]*20/100)\n",
    "    height = int(frame.shape[0]*20/100)\n",
    "    dim = (width,height)\n",
    "    resized = cv2.resize(frame,dim,interpolation=cv2.INTER_AREA)\n",
    "    gray=cv2.cvtColor(resized,cv2.COLOR_BGR2GRAY)\n",
    "    faces = face_cascade.detectMultiScale(gray,scaleFactor= 1.1,minNeighbors= 5,minSize=(10, 10)) \n",
    "    for (x, y, w, h) in faces:\n",
    "        cv2.rectangle(resized, (x, y), (x+w, y+h), (255, 255, 0), 2)\n",
    "    cv2.imshow('Capturing Frames',resized)\n",
    "    \n",
    "    if(cv2.waitKey(1) & 0xFF == ord('s')):\n",
    "        crop = resized[y:y+h, x:x+w]\n",
    "        cv2.imwrite('facechk.jpg',crop)\n",
    "        videoObjcap.release()\n",
    "        print(\"Success\")s\n",
    "cv2.destroyAllWindows()"
   ]
  },
  {
   "cell_type": "code",
   "execution_count": 8,
   "id": "204ef6bf",
   "metadata": {
    "ExecuteTime": {
     "end_time": "2021-06-16T15:32:13.258007Z",
     "start_time": "2021-06-16T15:32:13.234223Z"
    }
   },
   "outputs": [
    {
     "name": "stdout",
     "output_type": "stream",
     "text": [
      "(49, 49, 3)\n",
      "(49, 49, 3)\n",
      "(45, 45, 3)\n",
      "(43, 43, 3)\n",
      "(47, 47, 3)\n",
      "(47, 47, 3)\n",
      "(46, 46, 3)\n",
      "(45, 45, 3)\n",
      "(45, 45, 3)\n",
      "(45, 45, 3)\n",
      "(46, 46, 3)\n",
      "(47, 47, 3)\n",
      "(51, 51, 3)\n",
      "(48, 48, 3)\n",
      "(53, 53, 3)\n",
      "(51, 51, 3)\n",
      "(60, 60, 3)\n",
      "(59, 59, 3)\n",
      "(63, 63, 3)\n",
      "(54, 54, 3)\n",
      "['face_8.jpg', 'face_9.jpg', 'face_18.jpg', 'face_19.jpg', 'face_11.jpg', 'face_10.jpg', 'face_12.jpg', 'face_13.jpg', 'face_17.jpg', 'face_16.jpg', 'face_14.jpg', 'face_15.jpg', 'face_7.jpg', 'face_6.jpg', 'face_4.jpg', 'face_5.jpg', 'face_1.jpg', 'face_0.jpg', 'face_2.jpg', 'face_3.jpg']\n",
      "(20, 64, 64, 3)\n"
     ]
    }
   ],
   "source": [
    "import numpy as np\n",
    "import os\n",
    "import glob\n",
    "import cv2\n",
    "\n",
    "import tensorflow as tf\n",
    "data = []\n",
    "img_dir = \"\" \n",
    "files = glob.glob(\"*.jpg\") \n",
    "X_train = [] \n",
    "for f1 in files: \n",
    "    img = cv2.imread(f1,-1) \n",
    "    print(img.shape)\n",
    "    img = cv2.resize(img, (64,64))\n",
    "    X_train.append(img)\n",
    "\n",
    "print(files)\n",
    "X_train = np.asarray(X_train)\n",
    "\n",
    "print(X_train.shape)\n",
    "\n",
    "y_train = np.array([0,0,1,1,1,1,1,1,1,1,1,1,0,0,0,0,0,0,0,0])"
   ]
  },
  {
   "cell_type": "code",
   "execution_count": 51,
   "id": "24a951a2",
   "metadata": {
    "ExecuteTime": {
     "end_time": "2021-06-16T15:53:42.401017Z",
     "start_time": "2021-06-16T15:53:33.675444Z"
    }
   },
   "outputs": [
    {
     "name": "stdout",
     "output_type": "stream",
     "text": [
      "Epoch 1/100\n",
      "2/2 [==============================] - 1s 32ms/step - loss: 5.9605e-08 - accuracy: 0.5000\n",
      "Epoch 2/100\n",
      "2/2 [==============================] - 0s 36ms/step - loss: 5.9605e-08 - accuracy: 0.5000\n",
      "Epoch 3/100\n",
      "2/2 [==============================] - 0s 33ms/step - loss: 5.9605e-08 - accuracy: 0.5000\n",
      "Epoch 4/100\n",
      "2/2 [==============================] - 0s 40ms/step - loss: 5.9605e-08 - accuracy: 0.5000\n",
      "Epoch 5/100\n",
      "2/2 [==============================] - 0s 31ms/step - loss: 5.9605e-08 - accuracy: 0.5000\n",
      "Epoch 6/100\n",
      "2/2 [==============================] - 0s 40ms/step - loss: 5.9605e-08 - accuracy: 0.5000\n",
      "Epoch 7/100\n",
      "2/2 [==============================] - 0s 31ms/step - loss: 5.9605e-08 - accuracy: 0.5000\n",
      "Epoch 8/100\n",
      "2/2 [==============================] - 0s 30ms/step - loss: 5.9605e-08 - accuracy: 0.5000\n",
      "Epoch 9/100\n",
      "2/2 [==============================] - 0s 31ms/step - loss: 5.9605e-08 - accuracy: 0.5000\n",
      "Epoch 10/100\n",
      "2/2 [==============================] - 0s 35ms/step - loss: 5.9605e-08 - accuracy: 0.5000\n",
      "Epoch 11/100\n",
      "2/2 [==============================] - 0s 30ms/step - loss: 5.9605e-08 - accuracy: 0.5000\n",
      "Epoch 12/100\n",
      "2/2 [==============================] - 0s 29ms/step - loss: 5.9605e-08 - accuracy: 0.5000\n",
      "Epoch 13/100\n",
      "2/2 [==============================] - 0s 34ms/step - loss: 5.9605e-08 - accuracy: 0.5000\n",
      "Epoch 14/100\n",
      "2/2 [==============================] - 0s 33ms/step - loss: 5.9605e-08 - accuracy: 0.5000\n",
      "Epoch 15/100\n",
      "2/2 [==============================] - 0s 32ms/step - loss: 5.9605e-08 - accuracy: 0.5000\n",
      "Epoch 16/100\n",
      "2/2 [==============================] - 0s 32ms/step - loss: 5.9605e-08 - accuracy: 0.5000\n",
      "Epoch 17/100\n",
      "2/2 [==============================] - 0s 33ms/step - loss: 5.9605e-08 - accuracy: 0.5000\n",
      "Epoch 18/100\n",
      "2/2 [==============================] - 0s 32ms/step - loss: 5.9605e-08 - accuracy: 0.5000\n",
      "Epoch 19/100\n",
      "2/2 [==============================] - 0s 30ms/step - loss: 5.9605e-08 - accuracy: 0.5000\n",
      "Epoch 20/100\n",
      "2/2 [==============================] - 0s 37ms/step - loss: 5.9605e-08 - accuracy: 0.5000\n",
      "Epoch 21/100\n",
      "2/2 [==============================] - 0s 43ms/step - loss: 5.9605e-08 - accuracy: 0.5000\n",
      "Epoch 22/100\n",
      "2/2 [==============================] - 0s 35ms/step - loss: 5.9605e-08 - accuracy: 0.5000\n",
      "Epoch 23/100\n",
      "2/2 [==============================] - 0s 32ms/step - loss: 5.9605e-08 - accuracy: 0.5000\n",
      "Epoch 24/100\n",
      "2/2 [==============================] - 0s 34ms/step - loss: 5.9605e-08 - accuracy: 0.5000\n",
      "Epoch 25/100\n",
      "2/2 [==============================] - 0s 30ms/step - loss: 5.9605e-08 - accuracy: 0.5000\n",
      "Epoch 26/100\n",
      "2/2 [==============================] - 0s 46ms/step - loss: 5.9605e-08 - accuracy: 0.5000\n",
      "Epoch 27/100\n",
      "2/2 [==============================] - 0s 44ms/step - loss: 5.9605e-08 - accuracy: 0.5000\n",
      "Epoch 28/100\n",
      "2/2 [==============================] - 0s 44ms/step - loss: 5.9605e-08 - accuracy: 0.5000\n",
      "Epoch 29/100\n",
      "2/2 [==============================] - 0s 45ms/step - loss: 5.9605e-08 - accuracy: 0.5000\n",
      "Epoch 30/100\n",
      "2/2 [==============================] - 0s 33ms/step - loss: 5.9605e-08 - accuracy: 0.5000\n",
      "Epoch 31/100\n",
      "2/2 [==============================] - 0s 32ms/step - loss: 5.9605e-08 - accuracy: 0.5000\n",
      "Epoch 32/100\n",
      "2/2 [==============================] - 0s 33ms/step - loss: 5.9605e-08 - accuracy: 0.5000\n",
      "Epoch 33/100\n",
      "2/2 [==============================] - 0s 35ms/step - loss: 5.9605e-08 - accuracy: 0.5000\n",
      "Epoch 34/100\n",
      "2/2 [==============================] - 0s 29ms/step - loss: 5.9605e-08 - accuracy: 0.5000\n",
      "Epoch 35/100\n",
      "2/2 [==============================] - 0s 39ms/step - loss: 5.9605e-08 - accuracy: 0.5000\n",
      "Epoch 36/100\n",
      "2/2 [==============================] - 0s 49ms/step - loss: 5.9605e-08 - accuracy: 0.5000\n",
      "Epoch 37/100\n",
      "2/2 [==============================] - 0s 41ms/step - loss: 5.9605e-08 - accuracy: 0.5000\n",
      "Epoch 38/100\n",
      "2/2 [==============================] - 0s 35ms/step - loss: 5.9605e-08 - accuracy: 0.5000\n",
      "Epoch 39/100\n",
      "2/2 [==============================] - 0s 32ms/step - loss: 5.9605e-08 - accuracy: 0.5000\n",
      "Epoch 40/100\n",
      "2/2 [==============================] - 0s 30ms/step - loss: 5.9605e-08 - accuracy: 0.5000\n",
      "Epoch 41/100\n",
      "2/2 [==============================] - 0s 32ms/step - loss: 5.9605e-08 - accuracy: 0.5000\n",
      "Epoch 42/100\n",
      "2/2 [==============================] - 0s 31ms/step - loss: 5.9605e-08 - accuracy: 0.5000\n",
      "Epoch 43/100\n",
      "2/2 [==============================] - 0s 31ms/step - loss: 5.9605e-08 - accuracy: 0.5000\n",
      "Epoch 44/100\n",
      "2/2 [==============================] - 0s 29ms/step - loss: 5.9605e-08 - accuracy: 0.5000\n",
      "Epoch 45/100\n",
      "2/2 [==============================] - 0s 44ms/step - loss: 5.9605e-08 - accuracy: 0.5000\n",
      "Epoch 46/100\n",
      "2/2 [==============================] - 0s 44ms/step - loss: 5.9605e-08 - accuracy: 0.5000\n",
      "Epoch 47/100\n",
      "2/2 [==============================] - 0s 39ms/step - loss: 5.9605e-08 - accuracy: 0.5000\n",
      "Epoch 48/100\n",
      "2/2 [==============================] - 0s 31ms/step - loss: 5.9605e-08 - accuracy: 0.5000\n",
      "Epoch 49/100\n",
      "2/2 [==============================] - 0s 29ms/step - loss: 5.9605e-08 - accuracy: 0.5000\n",
      "Epoch 50/100\n",
      "2/2 [==============================] - 0s 36ms/step - loss: 5.9605e-08 - accuracy: 0.5000\n",
      "Epoch 51/100\n",
      "2/2 [==============================] - 0s 29ms/step - loss: 5.9605e-08 - accuracy: 0.5000\n",
      "Epoch 52/100\n",
      "2/2 [==============================] - 0s 33ms/step - loss: 5.9605e-08 - accuracy: 0.5000\n",
      "Epoch 53/100\n",
      "2/2 [==============================] - 0s 36ms/step - loss: 5.9605e-08 - accuracy: 0.5000\n",
      "Epoch 54/100\n",
      "2/2 [==============================] - 0s 31ms/step - loss: 5.9605e-08 - accuracy: 0.5000\n",
      "Epoch 55/100\n",
      "2/2 [==============================] - 0s 32ms/step - loss: 5.9605e-08 - accuracy: 0.5000\n",
      "Epoch 56/100\n",
      "2/2 [==============================] - 0s 35ms/step - loss: 5.9605e-08 - accuracy: 0.5000\n",
      "Epoch 57/100\n",
      "2/2 [==============================] - 0s 38ms/step - loss: 5.9605e-08 - accuracy: 0.5000\n",
      "Epoch 58/100\n",
      "2/2 [==============================] - 0s 42ms/step - loss: 5.9605e-08 - accuracy: 0.5000\n",
      "Epoch 59/100\n",
      "2/2 [==============================] - 0s 30ms/step - loss: 5.9605e-08 - accuracy: 0.5000\n",
      "Epoch 60/100\n",
      "2/2 [==============================] - 0s 30ms/step - loss: 5.9605e-08 - accuracy: 0.5000\n",
      "Epoch 61/100\n",
      "2/2 [==============================] - 0s 35ms/step - loss: 5.9605e-08 - accuracy: 0.5000\n",
      "Epoch 62/100\n",
      "2/2 [==============================] - 0s 30ms/step - loss: 5.9605e-08 - accuracy: 0.5000\n",
      "Epoch 63/100\n",
      "2/2 [==============================] - 0s 29ms/step - loss: 5.9605e-08 - accuracy: 0.5000\n",
      "Epoch 64/100\n",
      "2/2 [==============================] - 0s 29ms/step - loss: 5.9605e-08 - accuracy: 0.5000\n",
      "Epoch 65/100\n",
      "2/2 [==============================] - 0s 30ms/step - loss: 5.9605e-08 - accuracy: 0.5000\n",
      "Epoch 66/100\n",
      "2/2 [==============================] - 0s 29ms/step - loss: 5.9605e-08 - accuracy: 0.5000\n",
      "Epoch 67/100\n",
      "2/2 [==============================] - 0s 42ms/step - loss: 5.9605e-08 - accuracy: 0.5000\n",
      "Epoch 68/100\n",
      "2/2 [==============================] - 0s 44ms/step - loss: 5.9605e-08 - accuracy: 0.5000\n",
      "Epoch 69/100\n",
      "2/2 [==============================] - 0s 57ms/step - loss: 5.9605e-08 - accuracy: 0.5000\n",
      "Epoch 70/100\n",
      "2/2 [==============================] - 0s 33ms/step - loss: 5.9605e-08 - accuracy: 0.5000\n",
      "Epoch 71/100\n",
      "2/2 [==============================] - 0s 63ms/step - loss: 5.9605e-08 - accuracy: 0.5000\n",
      "Epoch 72/100\n",
      "2/2 [==============================] - 0s 40ms/step - loss: 5.9605e-08 - accuracy: 0.5000\n",
      "Epoch 73/100\n",
      "2/2 [==============================] - 0s 39ms/step - loss: 5.9605e-08 - accuracy: 0.5000\n",
      "Epoch 74/100\n",
      "2/2 [==============================] - 0s 41ms/step - loss: 5.9605e-08 - accuracy: 0.5000\n",
      "Epoch 75/100\n",
      "2/2 [==============================] - 0s 47ms/step - loss: 5.9605e-08 - accuracy: 0.5000\n",
      "Epoch 76/100\n",
      "2/2 [==============================] - 0s 40ms/step - loss: 5.9605e-08 - accuracy: 0.5000\n",
      "Epoch 77/100\n",
      "2/2 [==============================] - 0s 40ms/step - loss: 5.9605e-08 - accuracy: 0.5000\n",
      "Epoch 78/100\n",
      "2/2 [==============================] - 0s 47ms/step - loss: 5.9605e-08 - accuracy: 0.5000\n",
      "Epoch 79/100\n",
      "2/2 [==============================] - 0s 37ms/step - loss: 5.9605e-08 - accuracy: 0.5000\n",
      "Epoch 80/100\n"
     ]
    },
    {
     "name": "stdout",
     "output_type": "stream",
     "text": [
      "2/2 [==============================] - 0s 35ms/step - loss: 5.9605e-08 - accuracy: 0.5000\n",
      "Epoch 81/100\n",
      "2/2 [==============================] - 0s 37ms/step - loss: 5.9605e-08 - accuracy: 0.5000\n",
      "Epoch 82/100\n",
      "2/2 [==============================] - 0s 45ms/step - loss: 5.9605e-08 - accuracy: 0.5000\n",
      "Epoch 83/100\n",
      "2/2 [==============================] - 0s 35ms/step - loss: 5.9605e-08 - accuracy: 0.5000\n",
      "Epoch 84/100\n",
      "2/2 [==============================] - 0s 44ms/step - loss: 5.9605e-08 - accuracy: 0.5000\n",
      "Epoch 85/100\n",
      "2/2 [==============================] - 0s 39ms/step - loss: 5.9605e-08 - accuracy: 0.5000\n",
      "Epoch 86/100\n",
      "2/2 [==============================] - 0s 44ms/step - loss: 5.9605e-08 - accuracy: 0.5000\n",
      "Epoch 87/100\n",
      "2/2 [==============================] - 0s 49ms/step - loss: 5.9605e-08 - accuracy: 0.5000\n",
      "Epoch 88/100\n",
      "2/2 [==============================] - 0s 45ms/step - loss: 5.9605e-08 - accuracy: 0.5000\n",
      "Epoch 89/100\n",
      "2/2 [==============================] - 0s 36ms/step - loss: 5.9605e-08 - accuracy: 0.5000\n",
      "Epoch 90/100\n",
      "2/2 [==============================] - 0s 37ms/step - loss: 5.9605e-08 - accuracy: 0.5000\n",
      "Epoch 91/100\n",
      "2/2 [==============================] - 0s 44ms/step - loss: 5.9605e-08 - accuracy: 0.5000\n",
      "Epoch 92/100\n",
      "2/2 [==============================] - 0s 73ms/step - loss: 5.9605e-08 - accuracy: 0.5000\n",
      "Epoch 93/100\n",
      "2/2 [==============================] - 0s 33ms/step - loss: 5.9605e-08 - accuracy: 0.5000\n",
      "Epoch 94/100\n",
      "2/2 [==============================] - 0s 42ms/step - loss: 5.9605e-08 - accuracy: 0.5000\n",
      "Epoch 95/100\n",
      "2/2 [==============================] - 0s 46ms/step - loss: 5.9605e-08 - accuracy: 0.5000\n",
      "Epoch 96/100\n",
      "2/2 [==============================] - 0s 41ms/step - loss: 5.9605e-08 - accuracy: 0.5000\n",
      "Epoch 97/100\n",
      "2/2 [==============================] - 0s 42ms/step - loss: 5.9605e-08 - accuracy: 0.5000\n",
      "Epoch 98/100\n",
      "2/2 [==============================] - 0s 39ms/step - loss: 5.9605e-08 - accuracy: 0.5000\n",
      "Epoch 99/100\n",
      "2/2 [==============================] - 0s 37ms/step - loss: 5.9605e-08 - accuracy: 0.5000\n",
      "Epoch 100/100\n",
      "2/2 [==============================] - 0s 30ms/step - loss: 5.9605e-08 - accuracy: 0.5000\n"
     ]
    }
   ],
   "source": [
    "sgd = tf.keras.optimizers.SGD(lr=0.001, decay=1e-6, momentum=0.1, nesterov=True)\n",
    "\n",
    "def cnn_model() :   \n",
    "    model = tf.keras.Sequential()\n",
    "    \n",
    "\n",
    "    model.add(tf.keras.layers.Conv2D(32,kernel_size=2, activation=tf.nn.relu, input_shape=(64,64,3)))\n",
    "    model.add(tf.keras.layers.MaxPooling2D(pool_size=(3, 3)))\n",
    "    model.add(tf.keras.layers.Conv2D(64,kernel_size=2,activation=tf.nn.relu))\n",
    "    model.add(tf.keras.layers.MaxPooling2D(pool_size=(3, 3)))\n",
    "    model.add(tf.keras.layers.Conv2D(128,kernel_size=2,activation=tf.nn.relu))\n",
    "    model.add(tf.keras.layers.MaxPooling2D(pool_size=(2, 2)))\n",
    "    model.add(tf.keras.layers.Conv2D(256,kernel_size=2,activation=tf.nn.relu))\n",
    "    model.add(tf.keras.layers.Flatten())\n",
    "    model.add(tf.keras.layers.Dense(1, activation=tf.nn.sigmoid))\n",
    "\n",
    "    \n",
    "    #model.compile(loss='binary_crossentropy', optimizer=tf.keras.optimizers.Adam(lr=1e-6),metrics=['accuracy'])\n",
    "    model.compile(loss='categorical_crossentropy', optimizer=sgd,metrics=['accuracy'])\n",
    "\n",
    "    return model\n",
    "\n",
    "model = cnn_model()\n",
    "model.fit(X_train, y_train, epochs=100,batch_size=10)\n",
    "model.save('model.h5')"
   ]
  },
  {
   "cell_type": "code",
   "execution_count": 52,
   "id": "d989ca5d",
   "metadata": {
    "ExecuteTime": {
     "end_time": "2021-06-16T15:53:42.808066Z",
     "start_time": "2021-06-16T15:53:42.497449Z"
    }
   },
   "outputs": [
    {
     "name": "stdout",
     "output_type": "stream",
     "text": [
      "[[0.17844394]]\n"
     ]
    }
   ],
   "source": [
    "import cv2\n",
    "import numpy as np\n",
    "import tensorflow as tf\n",
    "from tensorflow import keras\n",
    "\n",
    "\n",
    "crop = cv2.imread('test/facetest.jpg') #Myron 0\n",
    "crop = cv2.resize(crop,(64,64))\n",
    "X_test = np.asarray(crop)\n",
    "model = keras.models.load_model(\"model.h5\")\n",
    "X_test=X_test.reshape(-1,64,64,3)\n",
    "predictions = model.predict(X_test)\n",
    "print(predictions)"
   ]
  },
  {
   "cell_type": "code",
   "execution_count": 53,
   "id": "b27d59d3",
   "metadata": {
    "ExecuteTime": {
     "end_time": "2021-06-16T15:53:45.447147Z",
     "start_time": "2021-06-16T15:53:45.159345Z"
    }
   },
   "outputs": [
    {
     "name": "stdout",
     "output_type": "stream",
     "text": [
      "[[0.01180938]]\n"
     ]
    }
   ],
   "source": [
    "import cv2\n",
    "import numpy as np\n",
    "import tensorflow as tf\n",
    "from tensorflow import keras\n",
    "\n",
    "\n",
    "crop = cv2.imread('test/facetest1.jpg') #Marisa 1\n",
    "crop = cv2.resize(crop,(64,64))\n",
    "X_test = np.asarray(crop)\n",
    "model = keras.models.load_model(\"model.h5\")\n",
    "X_test=X_test.reshape(-1,64,64,3)\n",
    "predictions = model.predict(X_test)\n",
    "print(predictions)"
   ]
  },
  {
   "cell_type": "code",
   "execution_count": null,
   "id": "b4f8abaf",
   "metadata": {},
   "outputs": [],
   "source": []
  }
 ],
 "metadata": {
  "kernelspec": {
   "display_name": "Python 3",
   "language": "python",
   "name": "python3"
  },
  "language_info": {
   "codemirror_mode": {
    "name": "ipython",
    "version": 3
   },
   "file_extension": ".py",
   "mimetype": "text/x-python",
   "name": "python",
   "nbconvert_exporter": "python",
   "pygments_lexer": "ipython3",
   "version": "3.6.7"
  },
  "toc": {
   "base_numbering": 1,
   "nav_menu": {},
   "number_sections": true,
   "sideBar": true,
   "skip_h1_title": false,
   "title_cell": "Table of Contents",
   "title_sidebar": "Contents",
   "toc_cell": true,
   "toc_position": {},
   "toc_section_display": true,
   "toc_window_display": true
  },
  "varInspector": {
   "cols": {
    "lenName": 16,
    "lenType": 16,
    "lenVar": 40
   },
   "kernels_config": {
    "python": {
     "delete_cmd_postfix": "",
     "delete_cmd_prefix": "del ",
     "library": "var_list.py",
     "varRefreshCmd": "print(var_dic_list())"
    },
    "r": {
     "delete_cmd_postfix": ") ",
     "delete_cmd_prefix": "rm(",
     "library": "var_list.r",
     "varRefreshCmd": "cat(var_dic_list()) "
    }
   },
   "types_to_exclude": [
    "module",
    "function",
    "builtin_function_or_method",
    "instance",
    "_Feature"
   ],
   "window_display": true
  }
 },
 "nbformat": 4,
 "nbformat_minor": 5
}
