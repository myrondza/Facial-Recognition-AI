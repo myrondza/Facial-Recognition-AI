{
 "cells": [
  {
   "cell_type": "markdown",
   "id": "239e8799",
   "metadata": {
    "toc": true
   },
   "source": [
    "<h1>Table of Contents<span class=\"tocSkip\"></span></h1>\n",
    "<div class=\"toc\"><ul class=\"toc-item\"></ul></div>"
   ]
  },
  {
   "cell_type": "code",
   "execution_count": 3,
   "id": "c2ddc15b",
   "metadata": {
    "ExecuteTime": {
     "end_time": "2021-06-16T15:28:19.589630Z",
     "start_time": "2021-06-16T15:28:01.237311Z"
    }
   },
   "outputs": [],
   "source": [
    "import cv2\n",
    "\n",
    "face_cascade = cv2.CascadeClassifier('haarcascade_frontalface_alt.xml')\n",
    "videoObjcap = cv2.VideoCapture(0)"
   ]
  },
  {
   "cell_type": "code",
   "execution_count": null,
   "id": "605f5f9c",
   "metadata": {
    "ExecuteTime": {
     "start_time": "2021-06-16T15:28:38.094Z"
    }
   },
   "outputs": [],
   "source": [
    "while(True):\n",
    "    cap , frame = videoObjcap.read()\n",
    "    scale = 10\n",
    "    width = int(frame.shape[1]*20/100)\n",
    "    height = int(frame.shape[0]*20/100)\n",
    "    dim = (width,height)\n",
    "    resized = cv2.resize(frame,dim,interpolation=cv2.INTER_AREA)\n",
    "    gray=cv2.cvtColor(resized,cv2.COLOR_BGR2GRAY)\n",
    "    faces = face_cascade.detectMultiScale(gray,scaleFactor= 1.1,minNeighbors= 5,minSize=(10, 10)) \n",
    "    for (x, y, w, h) in faces:\n",
    "        cv2.rectangle(resized, (x, y), (x+w, y+h), (255, 255, 0), 2)\n",
    "    cv2.imshow('Capturing Frames',resized)\n",
    "    \n",
    "    if(cv2.waitKey(1) & 0xFF == ord('s')):\n",
    "        crop = resized[y:y+h, x:x+w]\n",
    "        cv2.imwrite('facechk.jpg',crop)\n",
    "        videoObjcap.release()\n",
    "        print(\"Success\")\n",
    "cv2.destroyAllWindows()"
   ]
  },
  {
   "cell_type": "code",
   "execution_count": null,
   "id": "a8c793a8",
   "metadata": {},
   "outputs": [],
   "source": [
    "import numpy as np\n",
    "import os\n",
    "import glob\n",
    "import cv2\n",
    "\n",
    "import tensorflow as tf\n",
    "data = []\n",
    "img_dir = \"/Users/myrondza/iCloud/com~apple~CloudDocs/Face\\ Recognition/\" \n",
    "files = glob.glob(\"*.jpg\") \n",
    "X_train = [] \n",
    "for f1 in files: \n",
    "    img = cv2.imread(f1,-1) \n",
    "    print(img.shape)\n",
    "    img = cv2.resize(img, (64,64))\n",
    "    X_train.append(img)\n",
    "\n",
    "print(files)\n",
    "X_train = np.asarray(X_train)\n",
    "\n",
    "print(X_train.shape)\n",
    "\n",
    "y_train = np.array([0,0,1,1,1,1,1,1,1,1,1,1,0,0,0,0,0,0,0,0])\n",
    "\n",
    "sgd = tf.keras.optimizers.SGD(lr=0.0001, decay=1e-6, momentum=0.1, nesterov=True)\n",
    "\n",
    "def cnn_model() :   \n",
    "    model = tf.keras.Sequential()\n",
    "    \n",
    "\n",
    "    model.add(tf.keras.layers.Conv2D(32,kernel_size=2, activation=tf.nn.relu, input_shape=(64,64,3)))\n",
    "    model.add(tf.keras.layers.MaxPooling2D(pool_size=(3, 3)))\n",
    "    model.add(tf.keras.layers.Conv2D(64,kernel_size=2,activation=tf.nn.relu))\n",
    "    model.add(tf.keras.layers.MaxPooling2D(pool_size=(3, 3)))\n",
    "    model.add(tf.keras.layers.Conv2D(128,kernel_size=2,activation=tf.nn.relu))\n",
    "    model.add(tf.keras.layers.MaxPooling2D(pool_size=(2, 2)))\n",
    "    model.add(tf.keras.layers.Conv2D(256,kernel_size=2,activation=tf.nn.relu))\n",
    "    model.add(tf.keras.layers.Flatten())\n",
    "    model.add(tf.keras.layers.Dense(1, activation=tf.nn.sigmoid))\n",
    "\n",
    "    \n",
    "    model.compile(loss='categorical_crossentropy', optimizer=tf.keras.optimizers.Adam(lr=1e-6),metrics=['accuracy'])\n",
    "    #model.compile(loss='categorical_crossentropy', optimizer=sgd,metrics=['accuracy'])\n",
    "\n",
    "    return model\n",
    "\n",
    "model = cnn_model()\n",
    "model.fit(X_train, y_train, epochs=25,batch_size=10)\n",
    "model.save('model.h5')"
   ]
  },
  {
   "cell_type": "code",
   "execution_count": null,
   "id": "d884fdbf",
   "metadata": {},
   "outputs": [],
   "source": [
    "import cv2\n",
    "import numpy as np\n",
    "import tensorflow as tf\n",
    "from tensorflow import keras\n",
    "\n",
    "face_cascade = cv2.CascadeClassifier('haarcascade_frontalface_alt.xml')\n",
    "videoObjcap = cv2.VideoCapture(0)\n",
    "\n",
    "\n",
    "while(True):\n",
    "    cap , frame = videoObjcap.read()\n",
    "    scale = 10\n",
    "    width = int(frame.shape[1]*20/100)\n",
    "    height = int(frame.shape[0]*20/100)\n",
    "    dim = (width,height)\n",
    "    resized = cv2.resize(frame,dim,interpolation=cv2.INTER_AREA)\n",
    "    gray=cv2.cvtColor(resized,cv2.COLOR_BGR2GRAY)\n",
    "    faces = face_cascade.detectMultiScale(gray,scaleFactor= 1.1,minNeighbors= 5,minSize=(10, 10)) \n",
    "    for (x, y, w, h) in faces:\n",
    "        cv2.rectangle(resized, (x, y), (x+w, y+h), (255, 255, 0), 2)\n",
    "    crop = resized[y:y+h, x:x+w]\n",
    "    cv2.imwrite('facetest.jpg',crop)\n",
    "    crop = cv2.resize(crop,(64,64))\n",
    "    X_test = np.asarray(crop)\n",
    "    model = keras.models.load_model(\"model.h5\")\n",
    "    X_test=X_test.reshape(-1,64,64,3)\n",
    "    predictions = model.predict(X_test)\n",
    "    if(predictions[0]<=0.5):\n",
    "        pred=\"Myron\"\n",
    "    else:\n",
    "        pred=\"Marisa\"\n",
    "    cv2.putText(resized,pred, (x, y-10), cv2.FONT_HERSHEY_SIMPLEX, 0.9, (36,255,12), 2)\n",
    "    cv2.imshow('Capturing Frames',resized)\n",
    "    \n",
    "    \n",
    "    print(predictions)\n",
    "    if(cv2.waitKey(1) & 0xFF == ord('s')):\n",
    "        videoObjcap.release()\n",
    "        break\n",
    "    print(\"Success\")\n",
    "    \n",
    "videoObjcap.release()\n",
    "cv2.destroyAllWindows()"
   ]
  }
 ],
 "metadata": {
  "kernelspec": {
   "display_name": "Python 3",
   "language": "python",
   "name": "python3"
  },
  "language_info": {
   "codemirror_mode": {
    "name": "ipython",
    "version": 3
   },
   "file_extension": ".py",
   "mimetype": "text/x-python",
   "name": "python",
   "nbconvert_exporter": "python",
   "pygments_lexer": "ipython3",
   "version": "3.6.7"
  },
  "toc": {
   "base_numbering": 1,
   "nav_menu": {},
   "number_sections": true,
   "sideBar": true,
   "skip_h1_title": false,
   "title_cell": "Table of Contents",
   "title_sidebar": "Contents",
   "toc_cell": true,
   "toc_position": {},
   "toc_section_display": true,
   "toc_window_display": true
  },
  "varInspector": {
   "cols": {
    "lenName": 16,
    "lenType": 16,
    "lenVar": 40
   },
   "kernels_config": {
    "python": {
     "delete_cmd_postfix": "",
     "delete_cmd_prefix": "del ",
     "library": "var_list.py",
     "varRefreshCmd": "print(var_dic_list())"
    },
    "r": {
     "delete_cmd_postfix": ") ",
     "delete_cmd_prefix": "rm(",
     "library": "var_list.r",
     "varRefreshCmd": "cat(var_dic_list()) "
    }
   },
   "types_to_exclude": [
    "module",
    "function",
    "builtin_function_or_method",
    "instance",
    "_Feature"
   ],
   "window_display": true
  }
 },
 "nbformat": 4,
 "nbformat_minor": 5
}
